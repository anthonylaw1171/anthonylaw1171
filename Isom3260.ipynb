{
  "nbformat": 4,
  "nbformat_minor": 0,
  "metadata": {
    "colab": {
      "provenance": [],
      "include_colab_link": true
    },
    "kernelspec": {
      "name": "python3",
      "display_name": "Python 3"
    },
    "language_info": {
      "name": "python"
    }
  },
  "cells": [
    {
      "cell_type": "markdown",
      "metadata": {
        "id": "view-in-github",
        "colab_type": "text"
      },
      "source": [
        "<a href=\"https://colab.research.google.com/github/anthonylaw1171/anthonylaw1171/blob/main/Isom3260.ipynb\" target=\"_parent\"><img src=\"https://colab.research.google.com/assets/colab-badge.svg\" alt=\"Open In Colab\"/></a>"
      ]
    },
    {
      "cell_type": "code",
      "execution_count": null,
      "metadata": {
        "id": "VW8kIHojlCcf",
        "colab": {
          "base_uri": "https://localhost:8080/"
        },
        "outputId": "f5919c1d-c43c-4278-f3ee-0b04cbbb3ade"
      },
      "outputs": [
        {
          "output_type": "stream",
          "name": "stdout",
          "text": [
            "Isaac\n"
          ]
        }
      ],
      "source": [
        "print(\"Isaac\")"
      ]
    },
    {
      "cell_type": "code",
      "source": [
        "print('hello')"
      ],
      "metadata": {
        "id": "vXNgjY3Fh3XU",
        "outputId": "0b09ec1f-f1e9-49a0-a124-312ff3291366",
        "colab": {
          "base_uri": "https://localhost:8080/"
        }
      },
      "execution_count": null,
      "outputs": [
        {
          "output_type": "stream",
          "name": "stdout",
          "text": [
            "hello\n"
          ]
        }
      ]
    },
    {
      "cell_type": "code",
      "source": [
        "# -- Install and setup Oracle Instant Client --\n",
        "! wget -O oracleinstantclient.zip https://download.oracle.com/otn_software/linux/instantclient/19600/instantclient-basic-linux.x64-19.6.0.0.0dbru.zip\n",
        "! unzip -oq oracleinstantclient.zip\n",
        "! mkdir -p /opt/oracle\n",
        "! mv instantclient_19_6 /opt/oracle/\n",
        "! sh -c \"echo /opt/oracle/instantclient_19_6 > /etc/ld.so.conf.d/oracle-instantclient.conf\"\n",
        "! ln -s /usr/local/lib/python3.7/dist-packages/ideep4py/lib/libmkldnn.so.0 /usr/local/lib/python3.7/dist-packages/ideep4py/lib/libmkldnn.0.so\n",
        "! ldconfig\n",
        "\n",
        "\n",
        "# -- Include cx_Oracle package --\n",
        "! pip install cx_Oracle\n"
      ],
      "metadata": {
        "id": "G1660aSKlG98"
      },
      "execution_count": null,
      "outputs": []
    },
    {
      "cell_type": "code",
      "source": [
        "# Import cx_Oracle package and connect to Oracle Database\n",
        "import cx_Oracle\n",
        "\n",
        "HOST_NAME = \"imz409.ust.hk\"\n",
        "PORT_NUMBER = \"1521\"\n",
        "SERVICE_NAME = \"imz409\"\n",
        "USERNAME = \"forms_demo\"\n",
        "PASSWORD = \"isom3260\"\n",
        "\n",
        "dsn_tns = cx_Oracle.makedsn(HOST_NAME, PORT_NUMBER, service_name=SERVICE_NAME) \n",
        "conn = cx_Oracle.connect(user=USERNAME, password=PASSWORD, dsn=dsn_tns) \n",
        "\n",
        "c = conn.cursor()"
      ],
      "metadata": {
        "id": "kA1ptCwblLTF"
      },
      "execution_count": null,
      "outputs": []
    },
    {
      "cell_type": "code",
      "source": [
        "from google.colab.widgets import TabBar\n",
        "import ipywidgets as widgets\n",
        "import time\n",
        "import pandas as pd\n",
        "from ipywidgets import interact\n",
        "from ipywidgets import Text\n",
        "from ipywidgets import DatePicker\n",
        "from ipywidgets import IntText\n",
        "from ipywidgets import Label\n",
        "from datetime import date"
      ],
      "metadata": {
        "id": "m6BKHhD0lPdz"
      },
      "execution_count": null,
      "outputs": []
    },
    {
      "cell_type": "code",
      "source": [],
      "metadata": {
        "id": "gonFv2iZlPmI"
      },
      "execution_count": null,
      "outputs": []
    }
  ]
}